{
 "cells": [
  {
   "cell_type": "markdown",
   "id": "00c3dd74",
   "metadata": {},
   "source": [
    "# Geocoding Proof of Concept\n",
    "\n",
    "Uses https://github.com/CDCgov/prime-data-ingestion/blob/main/geocode/GeocodeAddress/__init__.py"
   ]
  },
  {
   "cell_type": "code",
   "execution_count": null,
   "id": "a2292ba3",
   "metadata": {},
   "outputs": [],
   "source": [
    "import requests\n",
    "\n",
    "import pandas as pd"
   ]
  },
  {
   "cell_type": "code",
   "execution_count": null,
   "id": "45cf3124",
   "metadata": {},
   "outputs": [],
   "source": [
    "address = \"1600 Clifton Rd. Atlanta, GA 30329\"\n",
    "url = \"https://phdismartystreetstest.azurewebsites.net/api/GeocodeAddress\"\n",
    "\n",
    "params = (\n",
    "    (\"code\", \"Bcaszqa1uJNkKwBFwr2fa5rZlXheq0XKUaOCP52AqJ8LIWrz4V/5Yg==\"),\n",
    "    (\"address\", address),\n",
    ")"
   ]
  },
  {
   "cell_type": "code",
   "execution_count": null,
   "id": "4d658f5c",
   "metadata": {},
   "outputs": [],
   "source": [
    "response = requests.get(url, params=params)"
   ]
  },
  {
   "cell_type": "code",
   "execution_count": null,
   "id": "9c67a20b",
   "metadata": {},
   "outputs": [],
   "source": [
    "response"
   ]
  },
  {
   "cell_type": "code",
   "execution_count": null,
   "id": "e39f3ebd",
   "metadata": {},
   "outputs": [],
   "source": [
    "results = response.json()"
   ]
  },
  {
   "cell_type": "code",
   "execution_count": null,
   "id": "6f56491e",
   "metadata": {},
   "outputs": [],
   "source": [
    "results"
   ]
  },
  {
   "cell_type": "markdown",
   "id": "8608249c",
   "metadata": {},
   "source": [
    "## As a DataFrame"
   ]
  },
  {
   "cell_type": "code",
   "execution_count": null,
   "id": "989d8414",
   "metadata": {},
   "outputs": [],
   "source": [
    "class GeoCoder:\n",
    "    def __init__(self):\n",
    "        self.url = \"https://phdismartystreetstest.azurewebsites.net/api/GeocodeAddress\"\n",
    "        self.code = \"Bcaszqa1uJNkKwBFwr2fa5rZlXheq0XKUaOCP52AqJ8LIWrz4V/5Yg==\"\n",
    "\n",
    "    def get_standardized_address(self, address):\n",
    "        params = (\n",
    "            (\"code\", self.code),\n",
    "            (\"address\", address),\n",
    "        )\n",
    "        response = requests.get(self.url, params=params)\n",
    "        results = response.json()\n",
    "\n",
    "        standardized_street_name = \" \".join(\n",
    "            filter(\n",
    "                None,\n",
    "                (\n",
    "                    results[\"results\"][0][\"Delivery_line_1\"],\n",
    "                    results[\"results\"][0][\"Delivery_line_2\"],\n",
    "                ),\n",
    "            )\n",
    "        )\n",
    "        standardized_address = \", \".join(\n",
    "            filter(None, (standardized_street_name, results[\"results\"][0][\"last_line\"]))\n",
    "        )\n",
    "\n",
    "        return standardized_address\n",
    "\n",
    "    def geocode(self, address):\n",
    "        params = (\n",
    "            (\"code\", self.code),\n",
    "            (\"address\", address),\n",
    "        )\n",
    "        response = requests.get(self.url, params=params)\n",
    "        results = response.json()\n",
    "\n",
    "        geocoded_results = results[\"results\"][0]\n",
    "\n",
    "        return geocoded_results"
   ]
  },
  {
   "cell_type": "code",
   "execution_count": null,
   "id": "9a9e98d2",
   "metadata": {},
   "outputs": [],
   "source": [
    "df = pd.DataFrame(\n",
    "    {\n",
    "        \"personid\": [123456],\n",
    "        \"vaccination_date\": [\"2021-01-01\"],\n",
    "        \"address\": [\"1600 Clifton Rd Atlanta, GA 30329\"],\n",
    "    }\n",
    ")\n",
    "\n",
    "g = GeoCoder()"
   ]
  },
  {
   "cell_type": "code",
   "execution_count": null,
   "id": "122745f0",
   "metadata": {},
   "outputs": [],
   "source": [
    "df[\"standardized_address\"] = df[\"address\"].apply(g.get_standardized_address)"
   ]
  },
  {
   "cell_type": "code",
   "execution_count": null,
   "id": "66ec4e36",
   "metadata": {},
   "outputs": [],
   "source": [
    "df[\"geocoded_results\"] = df[\"address\"].apply(g.geocode)"
   ]
  },
  {
   "cell_type": "code",
   "execution_count": null,
   "id": "7108b581",
   "metadata": {},
   "outputs": [],
   "source": [
    "df"
   ]
  },
  {
   "cell_type": "code",
   "execution_count": null,
   "id": "0e896ce0",
   "metadata": {},
   "outputs": [],
   "source": []
  }
 ],
 "metadata": {
  "kernelspec": {
   "display_name": "Python [conda env:justice40-tool] *",
   "language": "python",
   "name": "conda-env-justice40-tool-py"
  },
  "language_info": {
   "codemirror_mode": {
    "name": "ipython",
    "version": 3
   },
   "file_extension": ".py",
   "mimetype": "text/x-python",
   "name": "python",
   "nbconvert_exporter": "python",
   "pygments_lexer": "ipython3",
   "version": "3.9.6"
  }
 },
 "nbformat": 4,
 "nbformat_minor": 5
}