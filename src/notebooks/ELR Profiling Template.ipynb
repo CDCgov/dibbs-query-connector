{
 "cells": [
  {
   "cell_type": "markdown",
   "metadata": {},
   "source": [
    "# ELR Data Profiling Template"
   ]
  },
  {
   "cell_type": "markdown",
   "metadata": {},
   "source": [
    "This notebook is a template for how we might use some basic python data analysis (i.e. pandas) to profile incoming ELR data. The code is likely adaptable to ECR data as well, if it fits into a pipe-delimited HL7 v2.XX format. This notebook will attempt to answer extremely basic questions involving the cleanliness and formatting of the data, such as proportion of missing fields per field, proportion of missing required fields, proportion of records with demographic info, etc."
   ]
  },
  {
   "cell_type": "code",
   "execution_count": 1,
   "metadata": {},
   "outputs": [],
   "source": [
    "'''\n",
    "Note on use: the HL7.Container object parsed by the hl7 package\n",
    "is a subclass of python list, which gives us easy access for indices:\n",
    "  Message\n",
    "  Segment\n",
    "  Field\n",
    "  Repetition\n",
    "  Component\n",
    "'''\n",
    "import hl7\n",
    "import matplotlib.pyplot as plt\n",
    "import pandas as pd"
   ]
  },
  {
   "cell_type": "code",
   "execution_count": 2,
   "metadata": {},
   "outputs": [],
   "source": [
    "# Location of file to open\n",
    "import os\n",
    "\n",
    "HOME_DIR = os.path.expanduser('~')\n",
    "DATA_DIR = os.path.join(HOME_DIR, 'inventory', 'SampleData', 'PRE') # THIS IS THE ONLY HARD CODE PATH YOU NEED TO CHANGE\n",
    "IN_FILE = os.path.join(DATA_DIR, 'PreTranslation_to_State_VA.hl7')"
   ]
  },
  {
   "cell_type": "code",
   "execution_count": 3,
   "metadata": {},
   "outputs": [],
   "source": [
    "'''\n",
    "May need to write a different type of file parser depending on format\n",
    "of real file. The python HL7 library doesn't read from files, just individual\n",
    "messages, so we have to concatenate them in a meaningful format. Parsing\n",
    "via string concatenation is suggested in their docs, since newlines and \n",
    "carriage returns delimit segments and blank lines delimit messages themselves.\n",
    "'''\n",
    "msgs = []\n",
    "with open(IN_FILE, 'r') as fp:\n",
    "    msg = ''\n",
    "    for line in fp:\n",
    "        if line.strip() == '':\n",
    "            msgs.append(msg)\n",
    "            msg = ''\n",
    "        else:\n",
    "            strp_line = line.strip()\n",
    "            msg += '\\r' + strp_line\n",
    "\n",
    "# Verify correctness of data loading: I count ten messages in this \n",
    "# representative set; all messages MUST begin with the message\n",
    "# header signifier 'MSH'\n",
    "expected_msgs = 10\n",
    "assert len(msgs) == expected_msgs\n",
    "starts_with_msg_header = [x.split('|')[0].strip() == 'MSH' for x in msgs]\n",
    "assert all(starts_with_msg_header)\n",
    "hl7_msgs = [hl7.parse(x) for x in msgs]"
   ]
  },
  {
   "cell_type": "code",
   "execution_count": 4,
   "metadata": {},
   "outputs": [
    {
     "data": {
      "image/png": "[encoded data removed]",
      "text/plain": [
       "<Figure size 432x288 with 1 Axes>"
      ]
     },
     "metadata": {
      "needs_background": "light"
     },
     "output_type": "display_data"
    },
    {
     "data": {
      "image/png": "[encoded data removed]",
      "text/plain": [
       "<Figure size 432x288 with 1 Axes>"
      ]
     },
     "metadata": {
      "needs_background": "light"
     },
     "output_type": "display_data"
    }
   ],
   "source": [
    "'''\n",
    "Receives a list of parsed hl7 messages, determine the unique segments\n",
    "contained in each message, and generate a profiling histogram showing\n",
    "the frequencies of each present segment across each present message.\n",
    "'''\n",
    "def profile_segments_in_hl7_batch(messages: list):\n",
    "    total_counts = {}\n",
    "    message_counts = {}\n",
    "    \n",
    "    for m in messages:\n",
    "        segments = list([str(x[0]) for x in m])\n",
    "        \n",
    "        # Total number of times this segment occurs in batch\n",
    "        for s in segments:\n",
    "            if s not in total_counts:\n",
    "                total_counts[s] = 0\n",
    "            total_counts[s] += 1\n",
    "            \n",
    "        # Number of messages containing one or more of segment\n",
    "        seg_set = set(segments)\n",
    "        for s in seg_set:\n",
    "            if s not in message_counts:\n",
    "                message_counts[s] = 0\n",
    "            message_counts[s] += 1\n",
    "    \n",
    "    labels = list(total_counts.keys())\n",
    "    heights = list(total_counts.values())\n",
    "    plt.bar(labels, heights)\n",
    "    plt.title('Num. Occurences of Segments Across Message Batch')\n",
    "    plt.show()\n",
    "    \n",
    "    labels = list(message_counts.keys())\n",
    "    heights = list(message_counts.values())\n",
    "    plt.bar(labels, heights)\n",
    "    plt.title('Num. Messages in Batch Containing Segment')\n",
    "    plt.show()\n",
    "    \n",
    "profile_segments_in_hl7_batch(hl7_msgs)"
   ]
  },
  {
   "cell_type": "code",
   "execution_count": 5,
   "metadata": {},
   "outputs": [
    {
     "name": "stdout",
     "output_type": "stream",
     "text": [
      "{'segment': 'PID', 'fields present': 17, 'requirements missing': 0, 'optionals present': 15}\n"
     ]
    }
   ],
   "source": [
    "# From docs: \"Note that since the first element of the segment is the \n",
    "# segment name, segments are effectively 1-based in python as well \n",
    "PID_REQUIRED_FIELDS = [3,5]\n",
    "\n",
    "'''\n",
    "Profile the occurence of a single segment (given by segment identifier\n",
    "sid) in a single message. This identifies whether the segment is present,\n",
    "how many fields are present in the segment, and how many of those fields\n",
    "contain information. If an array is provided giving the \"optional\" or\n",
    "\"required\" status of each field in the segment, then the function also\n",
    "reports how many required fields are missing and how many optional fields\n",
    "are filled.\n",
    "'''\n",
    "def profile_segment_in_message(sid: str, message: hl7, field_reqs=None):\n",
    "    segment = []\n",
    "    try:\n",
    "        segment = message.segments(sid)\n",
    "    except:\n",
    "        return None\n",
    "    \n",
    "    profile = {\n",
    "        'segment': sid,\n",
    "        'fields present': len([x for x in segment[0] if str(x).strip() != ''])\n",
    "    }\n",
    "    if field_reqs != None:\n",
    "        profile['requirements missing'] = len([x for x in field_reqs if str(segment[0][x]).strip() == ''])\n",
    "        profile['optionals present'] = len([i for i in range(len(segment[0])) if i not in field_reqs and str(segment[0][i]).strip() != ''])\n",
    "      \n",
    "    return profile\n",
    "    \n",
    "\n",
    "profile = profile_segment_in_message('PID', hl7_msgs[0], field_reqs=PID_REQUIRED_FIELDS)\n",
    "print(profile)"
   ]
  },
  {
   "cell_type": "code",
   "execution_count": 6,
   "metadata": {},
   "outputs": [
    {
     "name": "stdout",
     "output_type": "stream",
     "text": [
      "{'street': '7455 WASHINGTON AVE', 'city': 'LAKEWOOD', 'state': 'CO', 'zip_postal': '22408'}\n"
     ]
    }
   ],
   "source": [
    "'''\n",
    "Basic function to extract an address from an HL7 message using the field\n",
    "schema here https://hl7-definition.caristix.com/v2/HL7v2.4/Fields/PID.11.\n",
    "The function only extracts fields that are necessary for geocoding, rather\n",
    "than all included geographic information in the message. Fields are parsed\n",
    "as strings and returned in a dictionary object with keys corresponding to\n",
    "address fields (street, city, state, zip_postal).\n",
    "'''\n",
    "def extract_address(msg: hl7):\n",
    "    components = msg.segment('PID')(11)(0)\n",
    "    street = str(components(1)).strip()\n",
    "    city = str(components(3)).strip()\n",
    "    state = str(components(4)).strip()\n",
    "    zip_postal = str(components(5)).strip()\n",
    "    return {\n",
    "        'street': street,\n",
    "        'city': city,\n",
    "        'state': state,\n",
    "        'zip_postal': zip_postal\n",
    "    }\n",
    "\n",
    "print(extract_address(hl7_msgs[0]))"
   ]
  },
  {
   "cell_type": "code",
   "execution_count": 8,
   "metadata": {},
   "outputs": [],
   "source": [
    "addresses = [extract_address(hl7) for hl7 in hl7_msgs]"
   ]
  },
  {
   "cell_type": "code",
   "execution_count": 10,
   "metadata": {},
   "outputs": [],
   "source": [
    "addresses_df = pd.DataFrame(addresses)"
   ]
  },
  {
   "cell_type": "code",
   "execution_count": 11,
   "metadata": {},
   "outputs": [
    {
     "data": {
      "text/html": [
       "<div>\n",
       "<style scoped>\n",
       "    .dataframe tbody tr th:only-of-type {\n",
       "        vertical-align: middle;\n",
       "    }\n",
       "\n",
       "    .dataframe tbody tr th {\n",
       "        vertical-align: top;\n",
       "    }\n",
       "\n",
       "    .dataframe thead th {\n",
       "        text-align: right;\n",
       "    }\n",
       "</style>\n",
       "<table border=\"1\" class=\"dataframe\">\n",
       "  <thead>\n",
       "    <tr style=\"text-align: right;\">\n",
       "      <th></th>\n",
       "      <th>street</th>\n",
       "      <th>city</th>\n",
       "      <th>state</th>\n",
       "      <th>zip_postal</th>\n",
       "    </tr>\n",
       "  </thead>\n",
       "  <tbody>\n",
       "    <tr>\n",
       "      <th>0</th>\n",
       "      <td>7455 WASHINGTON AVE</td>\n",
       "      <td>LAKEWOOD</td>\n",
       "      <td>CO</td>\n",
       "      <td>22408</td>\n",
       "    </tr>\n",
       "    <tr>\n",
       "      <th>1</th>\n",
       "      <td>7762 UPTON STREET</td>\n",
       "      <td>BANK AMERICARD</td>\n",
       "      <td>CO</td>\n",
       "      <td>23015</td>\n",
       "    </tr>\n",
       "    <tr>\n",
       "      <th>2</th>\n",
       "      <td>7762 UPTON STREET</td>\n",
       "      <td>BANK AMERICARD</td>\n",
       "      <td>CO</td>\n",
       "      <td>23015</td>\n",
       "    </tr>\n",
       "    <tr>\n",
       "      <th>3</th>\n",
       "      <td>1835 79TH ST</td>\n",
       "      <td>DOUGLAS GARDENS</td>\n",
       "      <td>OR</td>\n",
       "      <td>23116</td>\n",
       "    </tr>\n",
       "    <tr>\n",
       "      <th>4</th>\n",
       "      <td>4174 ORANGE BLOSSOMCR</td>\n",
       "      <td>HUNTINGTON BEACH</td>\n",
       "      <td>CA</td>\n",
       "      <td>23237</td>\n",
       "    </tr>\n",
       "  </tbody>\n",
       "</table>\n",
       "</div>"
      ],
      "text/plain": [
       "                  street              city state zip_postal\n",
       "0    7455 WASHINGTON AVE          LAKEWOOD    CO      22408\n",
       "1      7762 UPTON STREET    BANK AMERICARD    CO      23015\n",
       "2      7762 UPTON STREET    BANK AMERICARD    CO      23015\n",
       "3           1835 79TH ST   DOUGLAS GARDENS    OR      23116\n",
       "4  4174 ORANGE BLOSSOMCR  HUNTINGTON BEACH    CA      23237"
      ]
     },
     "execution_count": 11,
     "metadata": {},
     "output_type": "execute_result"
    }
   ],
   "source": [
    "addresses_df.head()"
   ]
  },
  {
   "cell_type": "code",
   "execution_count": null,
   "metadata": {},
   "outputs": [],
   "source": []
  }
 ],
 "metadata": {
  "kernelspec": {
   "display_name": "Python 3 (ipykernel)",
   "language": "python",
   "name": "python3"
  },
  "language_info": {
   "codemirror_mode": {
    "name": "ipython",
    "version": 3
   },
   "file_extension": ".py",
   "mimetype": "text/x-python",
   "name": "python",
   "nbconvert_exporter": "python",
   "pygments_lexer": "ipython3",
   "version": "3.9.7"
  }
 },
 "nbformat": 4,
 "nbformat_minor": 2
}
